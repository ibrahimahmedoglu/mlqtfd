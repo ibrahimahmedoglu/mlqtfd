{
 "cells": [
  {
   "cell_type": "code",
   "execution_count": null,
   "metadata": {},
   "outputs": [],
   "source": [
    "import numpy as np\n",
    "import pandas as pd\n",
    "from scipy.fftpack import fft\n",
    "from scipy.stats import entropy\n",
    "\n",
    "\n",
    "preprocessed_data = pd.read_csv('preprocessed_data_kalman_outliers.csv')\n",
    "\n",
    "# Window size \n",
    "window_size = 50\n",
    "\n",
    "# Time domain features\n",
    "def extract_time_domain_features(df, window_size):\n",
    "    features = pd.DataFrame()\n",
    "    features['mean_x'] = df['X_kalman'].rolling(window=window_size).mean()\n",
    "    features['std_x'] = df['X_kalman'].rolling(window=window_size).std()\n",
    "    features['min_x'] = df['X_kalman'].rolling(window=window_size).min()\n",
    "    features['max_x'] = df['X_kalman'].rolling(window=window_size).max()\n",
    "    features['sma'] = df[['X_kalman', 'Y_kalman', 'Z_kalman']].abs().sum(axis=1).rolling(window=window_size).sum()\n",
    "    return features\n",
    "\n",
    "# Frequency domain features\n",
    "def extract_frequency_domain_features(df, window_size):\n",
    "    features = pd.DataFrame()\n",
    "    n = len(df)\n",
    "    freq_domain = fft(df['X_kalman'].values)\n",
    "    freq_amplitudes = np.abs(freq_domain[:n // 2])\n",
    "    frequencies = np.fft.fftfreq(n, d=1.0)[:n // 2]\n",
    "    \n",
    "    features['dominant_frequency'] = frequencies[np.argmax(freq_amplitudes)]\n",
    "    features['spectral_entropy'] = entropy(freq_amplitudes)\n",
    "    features['energy'] = np.sum(freq_amplitudes ** 2)\n",
    "    return features\n",
    "\n",
    "\n",
    "time_domain_features = extract_time_domain_features(preprocessed_data, window_size)\n",
    "frequency_domain_features = extract_frequency_domain_features(preprocessed_data, window_size)\n",
    "\n",
    "all_features = pd.concat([preprocessed_data, time_domain_features, frequency_domain_features], axis=1)\n",
    "\n",
    "all_features.to_csv('feature_engineered_data.csv', index=False)\n",
    "print(all_features.head())\n"
   ]
  }
 ],
 "metadata": {
  "language_info": {
   "name": "python"
  },
  "orig_nbformat": 4
 },
 "nbformat": 4,
 "nbformat_minor": 2
}
